{
  "nbformat": 4,
  "nbformat_minor": 0,
  "metadata": {
    "colab": {
      "name": "Untitled4.ipynb",
      "provenance": [],
      "authorship_tag": "ABX9TyNTGePakfOhOlMs0fErvRmk",
      "include_colab_link": true
    },
    "kernelspec": {
      "name": "python3",
      "display_name": "Python 3"
    },
    "language_info": {
      "name": "python"
    }
  },
  "cells": [
    {
      "cell_type": "markdown",
      "metadata": {
        "id": "view-in-github",
        "colab_type": "text"
      },
      "source": [
        "<a href=\"https://colab.research.google.com/github/oks7639/python_for_CL/blob/master/My%20homework_KL.ipynb\" target=\"_parent\"><img src=\"https://colab.research.google.com/assets/colab-badge.svg\" alt=\"Open In Colab\"/></a>"
      ]
    },
    {
      "cell_type": "code",
      "metadata": {
        "id": "_em4aBVkBOLE"
      },
      "source": [
        "http://corpus.leeds.ac.uk/internet.html\n",
        "\n",
        "1. компании\n",
        "Ltd \n",
        "[lemma=\"Ltd\"] collocations context 2\n",
        "\n",
        ".& Co\n",
        "[lemma=\"&\"][lemma=\"Co\"][pos=\".*\"]\n",
        "\n",
        "3. взгляд\n",
        "\n",
        "Query: [lemma=\"взгляд\"] Colloc: left=2, right=0; Filter: A.*\n"
      ],
      "execution_count": null,
      "outputs": []
    }
  ]
}