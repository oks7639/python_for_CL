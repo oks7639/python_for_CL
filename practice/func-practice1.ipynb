{
  "nbformat": 4,
  "nbformat_minor": 0,
  "metadata": {
    "kernelspec": {
      "display_name": "Python 3",
      "language": "python",
      "name": "python3"
    },
    "language_info": {
      "codemirror_mode": {
        "name": "ipython",
        "version": 3
      },
      "file_extension": ".py",
      "mimetype": "text/x-python",
      "name": "python",
      "nbconvert_exporter": "python",
      "pygments_lexer": "ipython3",
      "version": "3.8.2"
    },
    "colab": {
      "name": "func-practice.ipynb",
      "provenance": []
    }
  },
  "cells": [
    {
      "cell_type": "code",
      "metadata": {
        "id": "5jqNky4MmeBu"
      },
      "source": [
        ""
      ],
      "execution_count": null,
      "outputs": []
    },
    {
      "cell_type": "markdown",
      "metadata": {
        "id": "ylixGHVOvAqB"
      },
      "source": [
        "## Classwork\n",
        "\n",
        "*Сделайте одну задачу на выбор. Выполнение больше одной приветствуется*"
      ]
    },
    {
      "cell_type": "markdown",
      "metadata": {
        "id": "WbpgWXdHvgV8"
      },
      "source": [
        "**Задача 1.**  Напишите генератор названий компаний (почти как генератор паролей). \n",
        "Пусть в названии компании будет 6 частей, рандомно выбирающихся из списка names.\n",
        "\n",
        "Сделайте это функцией"
      ]
    },
    {
      "cell_type": "code",
      "metadata": {
        "colab": {
          "base_uri": "https://localhost:8080/"
        },
        "id": "lIwa6cOqvcTs",
        "outputId": "a866c089-f363-48c1-a577-92b078bea9a4"
      },
      "source": [
        "# генератор названий компаний\n",
        "\n",
        "import random\n",
        "\n",
        "\n",
        "names1 = [\"пром\",\"агро\",\"торг\",\"урал\",\"север\",\"юг\",\"техно\",\n",
        "\"экспо\",\"метал\",\"нефть\",\"сельхоз\",\"фарм\",\"строй\",\n",
        "\"кредит\",\"алмаз\",\"-девелопмент\",\"развитие\",\"мос\",\n",
        "\"рос\",\"кубань\",\"сибирь\",\"восток\",\"нано\",\"софт\",\n",
        "\"микро\",\"онлайн\",\"инвест\",\"текстиль\",\"цемент\"]\n",
        "\n",
        "#print(random.choice(x))\n",
        "\n",
        "\n",
        "def generate_random(length):\n",
        "    companies = ''.join(random.choice(names1) for i in range(length))\n",
        "    print(\"Название компании: \", companies)\n",
        "\n",
        "\n",
        "generate_random(6)\n",
        "\n",
        "\n"
      ],
      "execution_count": 121,
      "outputs": [
        {
          "output_type": "stream",
          "name": "stdout",
          "text": [
            "Название компании:  софтмикросельхозкредитюгнефть\n"
          ]
        }
      ]
    },
    {
      "cell_type": "markdown",
      "metadata": {
        "id": "2AVmD8gNmeCA"
      },
      "source": [
        "import**Задача 2.** Генератор паролей\n",
        "\n",
        "Пароли, получаемые в результате, должны удовлетворять следующим условиям: \n",
        "\n",
        "     - в пароле есть 3 заглавные буквы (любые, в любом месте пароля)\n",
        "     - в пароле есть 4 цифры (любые, в любом месте)\n",
        "     - оставшиеся символы пароля - строчные латинские буквы\n",
        "     \n",
        "Создайте функцию, которая генерирует пароли, пользователь задает число символов в пароле (как аргумент функции)"
      ]
    },
    {
      "cell_type": "code",
      "metadata": {
        "id": "Mm3FYaIJ99GJ",
        "colab": {
          "base_uri": "https://localhost:8080/"
        },
        "outputId": "5935b095-9768-48ef-b36d-f02dc4acbe7c"
      },
      "source": [
        "import random\n",
        "\n",
        "abc = list('+-/*!&$#?=@<>abcdefghijklnopqrstuvwxyzABCDEFGHIJKLMNOPQRSTUVWXYZ1234567890')\n",
        "length = int(input('Length Password?+ \\n'))\n",
        "\n",
        "\n",
        "pasw = ''.join([random.choice(abc) for x in range(length)])\n",
        "\n",
        "print(f'Your Password - {pasw}') \n",
        "\n",
        "\n",
        "# def personal_password():\n",
        "#     name = input(\"Укажите длину пароля \")\n",
        "#     print (\"Ваш пароль: \", name)\n",
        "# personal_password()\n"
      ],
      "execution_count": 179,
      "outputs": [
        {
          "output_type": "stream",
          "name": "stdout",
          "text": [
            "Length Password?+ \n",
            "9\n",
            "Your Password - <GN5E=IJ5\n"
          ]
        }
      ]
    },
    {
      "cell_type": "code",
      "metadata": {
        "id": "CYkRKYXlzJaE"
      },
      "source": [
        "import random\n",
        "\n",
        "\n",
        "\n",
        "# def gen_pass(length):\n",
        "#   alphabet = \"ABCDEFGHIJKLMNOPQRSTUVWXYZ\"\n",
        "#   alphabet += \"abcdefghijklnopqrstuvwxyz\"\n",
        "#   alphabet += \"1234567890\"\n",
        "#   alphabet += \"+-/*!&$#?=@<>\"\n",
        "#   password = \"\"\n",
        "\n",
        "#   for i in range(length):\n",
        "#       password = random.choice(alphabet)\n",
        "#       name = input(\"Укажите длину пароля \")\n",
        "#       print (\"Ваш пароль: \", password)\n",
        "#   return password\n",
        "\n"
      ],
      "execution_count": 162,
      "outputs": []
    },
    {
      "cell_type": "code",
      "metadata": {
        "id": "ZbF7rB9i-NtB",
        "outputId": "1954e44f-b2c1-4edc-a0b2-9a59b7ba590e",
        "colab": {
          "base_uri": "https://localhost:8080/"
        }
      },
      "source": [
        "alphabet = \"ABCDEFGHIJKLMNOPQRSTUVWXYZ\"\n",
        "alphabet += \"abcdefghijklnopqrstuvwxyz\"\n",
        "alphabet += \"1234567890\"\n",
        "alphabet += \"+-/*!&$#?=@<>\"\n",
        "length = int(input('Length Password?+ \\n'))\n",
        "\n",
        "pasw = ''.join([random.choice(alphabet) for x in range(length)])\n",
        "print(f'Your Password - {pasw}')\n"
      ],
      "execution_count": 191,
      "outputs": [
        {
          "output_type": "stream",
          "name": "stdout",
          "text": [
            "Length Password?+ \n",
            "7\n",
            "Your Password - ISMT&t?\n"
          ]
        }
      ]
    }
  ]
}