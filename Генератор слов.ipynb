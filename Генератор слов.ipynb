{
  "nbformat": 4,
  "nbformat_minor": 0,
  "metadata": {
    "colab": {
      "name": "Untitled9.ipynb",
      "provenance": [],
      "authorship_tag": "ABX9TyMCCTCWWMo/JOngPqVmORaH",
      "include_colab_link": true
    },
    "kernelspec": {
      "name": "python3",
      "display_name": "Python 3"
    },
    "language_info": {
      "name": "python"
    }
  },
  "cells": [
    {
      "cell_type": "markdown",
      "metadata": {
        "id": "view-in-github",
        "colab_type": "text"
      },
      "source": [
        "<a href=\"https://colab.research.google.com/github/oks7639/python_for_CL/blob/master/%D0%93%D0%B5%D0%BD%D0%B5%D1%80%D0%B0%D1%82%D0%BE%D1%80%20%D1%81%D0%BB%D0%BE%D0%B2.ipynb\" target=\"_parent\"><img src=\"https://colab.research.google.com/assets/colab-badge.svg\" alt=\"Open In Colab\"/></a>"
      ]
    },
    {
      "cell_type": "code",
      "execution_count": 58,
      "metadata": {
        "colab": {
          "base_uri": "https://localhost:8080/",
          "height": 35
        },
        "id": "IzjVQ_gsQ_Rp",
        "outputId": "37a27dcc-0554-497f-dfe4-4c3b89ac1756"
      },
      "outputs": [
        {
          "output_type": "execute_result",
          "data": {
            "application/vnd.google.colaboratory.intrinsic+json": {
              "type": "string"
            },
            "text/plain": [
              "'CherriesApplesApplesBearsCherries'"
            ]
          },
          "metadata": {},
          "execution_count": 58
        }
      ],
      "source": [
        "import random\n",
        "\n",
        "names = [\"peaches\", \"bears\", \"apples\", \"cherries\", \"bananas\", \"tomates\"]\n",
        "\n",
        "def my_func(names):\n",
        "   res = \"\"\n",
        "   for x in range(5):\n",
        "    res += (random.choice(names)).capitalize()\n",
        "   \n",
        "   return res\n",
        "\n",
        "my_func(names=names)\n",
        "  \n"
      ]
    },
    {
      "cell_type": "code",
      "source": [
        ""
      ],
      "metadata": {
        "id": "akCJ3LrYayGh"
      },
      "execution_count": null,
      "outputs": []
    }
  ]
}