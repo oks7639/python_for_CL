{
  "nbformat": 4,
  "nbformat_minor": 0,
  "metadata": {
    "colab": {
      "name": "Untitled8.ipynb",
      "provenance": [],
      "authorship_tag": "ABX9TyMQySxUSvZh02YaLG1dmdpq",
      "include_colab_link": true
    },
    "kernelspec": {
      "name": "python3",
      "display_name": "Python 3"
    },
    "language_info": {
      "name": "python"
    }
  },
  "cells": [
    {
      "cell_type": "markdown",
      "metadata": {
        "id": "view-in-github",
        "colab_type": "text"
      },
      "source": [
        "<a href=\"https://colab.research.google.com/github/oks7639/python_for_CL/blob/master/%D0%A7%D0%B0%D1%81%D1%82%D0%BE%D1%82%D0%BD%D1%8B%D0%B9%20%D0%B0%D0%BD%D0%B0%D0%BB%D0%B8%D0%B7.ipynb\" target=\"_parent\"><img src=\"https://colab.research.google.com/assets/colab-badge.svg\" alt=\"Open In Colab\"/></a>"
      ]
    },
    {
      "cell_type": "code",
      "source": [
        "# f = open(\"Desktop/Python/KL/Puschkin.txt\")\n",
        "# text = f.read()\n",
        "\n",
        "# with open('Desktop/Python/KL/Puschkin.txt', 'r') as file:\n",
        "#      print(file.read())"
      ],
      "metadata": {
        "id": "NpGFZFlsmnU2"
      },
      "execution_count": null,
      "outputs": []
    },
    {
      "cell_type": "code",
      "source": [
        "!pip3 -qq install yargy --progress-bar off\n",
        "!pip3 -qq install pymorphy2 --progress-bar off\n",
        "!pip3 -qq install rusenttokenize --progress-bar off\n",
        "\n",
        "import sys\n",
        "import nltk\n",
        "\n",
        "# import ssl\n",
        "\n",
        "# try:\n",
        "#     _create_unverified_https_context = ssl._create_unverified_context\n",
        "# except AttributeError:\n",
        "#     pass\n",
        "# else:\n",
        "#     ssl._create_default_https_context = _create_unverified_https_context\n",
        "        \n",
        "nltk.download(\"punkt\", quiet=True)\n",
        "nltk.download(\"stopwords\", quiet=True)\n",
        "\n",
        "import sys"
      ],
      "metadata": {
        "id": "kqQ_s6Ycm5q9"
      },
      "execution_count": 40,
      "outputs": []
    },
    {
      "cell_type": "code",
      "source": [
        "!wget -q https://github.com/oserikov/data-science-nlp/raw/master/data/lenta_2018.txt.gz\n",
        "    \n",
        "!gunzip lenta_2018.txt.gz\n",
        "\n",
        "# from google.colab import files files.upload"
      ],
      "metadata": {
        "id": "kRWEPCmvrZcu"
      },
      "execution_count": 41,
      "outputs": []
    }
  ]
}